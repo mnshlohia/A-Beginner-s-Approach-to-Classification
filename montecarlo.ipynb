{
  "nbformat": 4,
  "nbformat_minor": 0,
  "metadata": {
    "colab": {
      "name": "montecarlo.ipynb",
      "version": "0.3.2",
      "provenance": [],
      "collapsed_sections": [],
      "include_colab_link": true
    },
    "kernelspec": {
      "name": "python3",
      "display_name": "Python 3"
    }
  },
  "cells": [
    {
      "cell_type": "markdown",
      "metadata": {
        "id": "view-in-github",
        "colab_type": "text"
      },
      "source": [
        "<a href=\"https://colab.research.google.com/github/mnshlohia/A-Beginner-s-Approach-to-Classification/blob/master/montecarlo.ipynb\" target=\"_parent\"><img src=\"https://colab.research.google.com/assets/colab-badge.svg\" alt=\"Open In Colab\"/></a>"
      ]
    },
    {
      "cell_type": "code",
      "metadata": {
        "id": "vHGK1SQbuwAL",
        "colab_type": "code",
        "colab": {}
      },
      "source": [
        "import numpy as np\n",
        "import matplotlib.pyplot as plt"
      ],
      "execution_count": 0,
      "outputs": []
    },
    {
      "cell_type": "code",
      "metadata": {
        "id": "TPjjGhJOvT2w",
        "colab_type": "code",
        "outputId": "67268445-035a-4f73-b573-4803bfddf04f",
        "colab": {
          "base_uri": "https://localhost:8080/",
          "height": 134
        }
      },
      "source": [
        "n=1000000\n",
        "x=np.random.rand(n,2)\n",
        "print(x)"
      ],
      "execution_count": 19,
      "outputs": [
        {
          "output_type": "stream",
          "text": [
            "[[0.02653123 0.78516032]\n",
            " [0.50466061 0.42695472]\n",
            " [0.76729433 0.39613552]\n",
            " ...\n",
            " [0.48937623 0.11080025]\n",
            " [0.90923198 0.40489555]\n",
            " [0.53278435 0.57785815]]\n"
          ],
          "name": "stdout"
        }
      ]
    },
    {
      "cell_type": "code",
      "metadata": {
        "id": "FnPS8_FnwXtW",
        "colab_type": "code",
        "outputId": "d038c2d9-9085-41ab-a28e-ebf49cb10c19",
        "colab": {
          "base_uri": "https://localhost:8080/",
          "height": 134
        }
      },
      "source": [
        "inside=x[np.sqrt(x[:,0]**2+x[:,1]**2)<1]\n",
        "print(inside)"
      ],
      "execution_count": 20,
      "outputs": [
        {
          "output_type": "stream",
          "text": [
            "[[0.02653123 0.78516032]\n",
            " [0.50466061 0.42695472]\n",
            " [0.76729433 0.39613552]\n",
            " ...\n",
            " [0.48937623 0.11080025]\n",
            " [0.90923198 0.40489555]\n",
            " [0.53278435 0.57785815]]\n"
          ],
          "name": "stdout"
        }
      ]
    },
    {
      "cell_type": "code",
      "metadata": {
        "id": "pAvxYX93xUyt",
        "colab_type": "code",
        "outputId": "ab161582-9ca6-4f9f-9487-f596e5b919a0",
        "colab": {
          "base_uri": "https://localhost:8080/",
          "height": 34
        }
      },
      "source": [
        "estimate=4*len(inside)/len(x)\n",
        "print(estimate)"
      ],
      "execution_count": 21,
      "outputs": [
        {
          "output_type": "stream",
          "text": [
            "3.142568\n"
          ],
          "name": "stdout"
        }
      ]
    },
    {
      "cell_type": "code",
      "metadata": {
        "id": "eb-VPIkaxl7Z",
        "colab_type": "code",
        "colab": {
          "base_uri": "https://localhost:8080/",
          "height": 486
        },
        "outputId": "d594b6c8-c414-4cf3-ea79-6ecb09abf2d8"
      },
      "source": [
        "plt.figure(figsize=(8,8))\n",
        "plt.scatter(x[:,0],x[:,1],s=.5,c='red')\n",
        "plt.scatter(inside[:,0],inside[:,1],s=.5,c='blue')\n",
        "plt.show()"
      ],
      "execution_count": 22,
      "outputs": [
        {
          "output_type": "display_data",
          "data": {
            "image/png": "[encoded data removed]",
            "text/plain": [
              "<Figure size 576x576 with 1 Axes>"
            ]
          },
          "metadata": {
            "tags": []
          }
        }
      ]
    }
  ]
}